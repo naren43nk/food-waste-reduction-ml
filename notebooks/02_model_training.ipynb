{
 "cells": [
  {
   "cell_type": "code",
   "execution_count": 1,
   "id": "bba7ad5f-d06b-47a5-87eb-3b165dd1baad",
   "metadata": {},
   "outputs": [
    {
     "data": {
      "text/html": [
       "<div>\n",
       "<style scoped>\n",
       "    .dataframe tbody tr th:only-of-type {\n",
       "        vertical-align: middle;\n",
       "    }\n",
       "\n",
       "    .dataframe tbody tr th {\n",
       "        vertical-align: top;\n",
       "    }\n",
       "\n",
       "    .dataframe thead th {\n",
       "        text-align: right;\n",
       "    }\n",
       "</style>\n",
       "<table border=\"1\" class=\"dataframe\">\n",
       "  <thead>\n",
       "    <tr style=\"text-align: right;\">\n",
       "      <th></th>\n",
       "      <th>id</th>\n",
       "      <th>week</th>\n",
       "      <th>center_id</th>\n",
       "      <th>meal_id</th>\n",
       "      <th>checkout_price</th>\n",
       "      <th>base_price</th>\n",
       "      <th>emailer_for_promotion</th>\n",
       "      <th>homepage_featured</th>\n",
       "      <th>num_orders</th>\n",
       "      <th>discount</th>\n",
       "      <th>discount_pct</th>\n",
       "      <th>any_promo</th>\n",
       "      <th>meal_popularity</th>\n",
       "      <th>center_popularity</th>\n",
       "    </tr>\n",
       "  </thead>\n",
       "  <tbody>\n",
       "    <tr>\n",
       "      <th>0</th>\n",
       "      <td>1379560</td>\n",
       "      <td>1</td>\n",
       "      <td>55</td>\n",
       "      <td>1885</td>\n",
       "      <td>136.83</td>\n",
       "      <td>152.29</td>\n",
       "      <td>0</td>\n",
       "      <td>0</td>\n",
       "      <td>177</td>\n",
       "      <td>15.46</td>\n",
       "      <td>0.101517</td>\n",
       "      <td>0</td>\n",
       "      <td>752.456365</td>\n",
       "      <td>163.475709</td>\n",
       "    </tr>\n",
       "    <tr>\n",
       "      <th>1</th>\n",
       "      <td>1466964</td>\n",
       "      <td>1</td>\n",
       "      <td>55</td>\n",
       "      <td>1993</td>\n",
       "      <td>136.83</td>\n",
       "      <td>135.83</td>\n",
       "      <td>0</td>\n",
       "      <td>0</td>\n",
       "      <td>270</td>\n",
       "      <td>-1.00</td>\n",
       "      <td>-0.007362</td>\n",
       "      <td>0</td>\n",
       "      <td>598.853544</td>\n",
       "      <td>163.475709</td>\n",
       "    </tr>\n",
       "    <tr>\n",
       "      <th>2</th>\n",
       "      <td>1346989</td>\n",
       "      <td>1</td>\n",
       "      <td>55</td>\n",
       "      <td>2539</td>\n",
       "      <td>134.86</td>\n",
       "      <td>135.86</td>\n",
       "      <td>0</td>\n",
       "      <td>0</td>\n",
       "      <td>189</td>\n",
       "      <td>1.00</td>\n",
       "      <td>0.007361</td>\n",
       "      <td>0</td>\n",
       "      <td>309.494594</td>\n",
       "      <td>163.475709</td>\n",
       "    </tr>\n",
       "    <tr>\n",
       "      <th>3</th>\n",
       "      <td>1338232</td>\n",
       "      <td>1</td>\n",
       "      <td>55</td>\n",
       "      <td>2139</td>\n",
       "      <td>339.50</td>\n",
       "      <td>437.53</td>\n",
       "      <td>0</td>\n",
       "      <td>0</td>\n",
       "      <td>54</td>\n",
       "      <td>98.03</td>\n",
       "      <td>0.224053</td>\n",
       "      <td>0</td>\n",
       "      <td>42.813462</td>\n",
       "      <td>163.475709</td>\n",
       "    </tr>\n",
       "    <tr>\n",
       "      <th>4</th>\n",
       "      <td>1448490</td>\n",
       "      <td>1</td>\n",
       "      <td>55</td>\n",
       "      <td>2631</td>\n",
       "      <td>243.50</td>\n",
       "      <td>242.50</td>\n",
       "      <td>0</td>\n",
       "      <td>0</td>\n",
       "      <td>40</td>\n",
       "      <td>-1.00</td>\n",
       "      <td>-0.004124</td>\n",
       "      <td>0</td>\n",
       "      <td>104.239051</td>\n",
       "      <td>163.475709</td>\n",
       "    </tr>\n",
       "  </tbody>\n",
       "</table>\n",
       "</div>"
      ],
      "text/plain": [
       "        id  week  center_id  meal_id  checkout_price  base_price  \\\n",
       "0  1379560     1         55     1885          136.83      152.29   \n",
       "1  1466964     1         55     1993          136.83      135.83   \n",
       "2  1346989     1         55     2539          134.86      135.86   \n",
       "3  1338232     1         55     2139          339.50      437.53   \n",
       "4  1448490     1         55     2631          243.50      242.50   \n",
       "\n",
       "   emailer_for_promotion  homepage_featured  num_orders  discount  \\\n",
       "0                      0                  0         177     15.46   \n",
       "1                      0                  0         270     -1.00   \n",
       "2                      0                  0         189      1.00   \n",
       "3                      0                  0          54     98.03   \n",
       "4                      0                  0          40     -1.00   \n",
       "\n",
       "   discount_pct  any_promo  meal_popularity  center_popularity  \n",
       "0      0.101517          0       752.456365         163.475709  \n",
       "1     -0.007362          0       598.853544         163.475709  \n",
       "2      0.007361          0       309.494594         163.475709  \n",
       "3      0.224053          0        42.813462         163.475709  \n",
       "4     -0.004124          0       104.239051         163.475709  "
      ]
     },
     "execution_count": 1,
     "metadata": {},
     "output_type": "execute_result"
    }
   ],
   "source": [
    "# Load essential libraries\n",
    "import pandas as pd\n",
    "import numpy as np\n",
    "\n",
    "# Load the preprocessed data\n",
    "df = pd.read_csv('../data/processed/train_engineered.csv')\n",
    "df.head()\n"
   ]
  },
  {
   "cell_type": "markdown",
   "id": "67956b64-3475-4d0a-a360-4c0d4f80947e",
   "metadata": {},
   "source": [
    "### Import ML Libraries"
   ]
  },
  {
   "cell_type": "code",
   "execution_count": 2,
   "id": "8518c4be-aba3-4352-95a1-e24820b178c8",
   "metadata": {},
   "outputs": [],
   "source": [
    "from sklearn.model_selection import train_test_split\n",
    "from sklearn.ensemble import RandomForestRegressor\n",
    "from sklearn.metrics import mean_absolute_error, mean_squared_error, r2_score\n",
    "import matplotlib.pyplot as plt\n",
    "import seaborn as sns\n"
   ]
  },
  {
   "cell_type": "markdown",
   "id": "c26ad1e0-3b82-4925-9b4e-edf1fef1c3b2",
   "metadata": {},
   "source": [
    "### Define Features and Target"
   ]
  },
  {
   "cell_type": "code",
   "execution_count": 3,
   "id": "8d47a753-b093-418c-8f83-82ce1214fbec",
   "metadata": {},
   "outputs": [],
   "source": [
    "features = [\n",
    "    'center_id', 'meal_id', 'checkout_price', 'base_price',\n",
    "    'emailer_for_promotion', 'homepage_featured',\n",
    "    'discount', 'discount_pct', 'any_promo',\n",
    "    'meal_popularity', 'center_popularity'\n",
    "]\n",
    "\n",
    "X = df[features]\n",
    "y = df['num_orders']\n"
   ]
  },
  {
   "cell_type": "markdown",
   "id": "105b5b96-a2ad-49d7-b6b2-0b6824e1c96b",
   "metadata": {},
   "source": [
    "### Train-Test Split"
   ]
  },
  {
   "cell_type": "code",
   "execution_count": 4,
   "id": "ac5e2d90-2a2c-44cd-a56b-1ed5871dd719",
   "metadata": {},
   "outputs": [],
   "source": [
    "X_train, X_test, y_train, y_test = train_test_split(\n",
    "    X, y, test_size=0.2, random_state=42\n",
    ")\n"
   ]
  },
  {
   "cell_type": "markdown",
   "id": "f92ff705-0920-40fe-a82a-d39592c35093",
   "metadata": {},
   "source": [
    "### Train Random Forest Model"
   ]
  },
  {
   "cell_type": "code",
   "execution_count": 5,
   "id": "2ee9f33c-b255-4558-b815-f9f1cf167e9e",
   "metadata": {},
   "outputs": [
    {
     "data": {
      "text/html": [
       "<style>#sk-container-id-1 {color: black;background-color: white;}#sk-container-id-1 pre{padding: 0;}#sk-container-id-1 div.sk-toggleable {background-color: white;}#sk-container-id-1 label.sk-toggleable__label {cursor: pointer;display: block;width: 100%;margin-bottom: 0;padding: 0.3em;box-sizing: border-box;text-align: center;}#sk-container-id-1 label.sk-toggleable__label-arrow:before {content: \"▸\";float: left;margin-right: 0.25em;color: #696969;}#sk-container-id-1 label.sk-toggleable__label-arrow:hover:before {color: black;}#sk-container-id-1 div.sk-estimator:hover label.sk-toggleable__label-arrow:before {color: black;}#sk-container-id-1 div.sk-toggleable__content {max-height: 0;max-width: 0;overflow: hidden;text-align: left;background-color: #f0f8ff;}#sk-container-id-1 div.sk-toggleable__content pre {margin: 0.2em;color: black;border-radius: 0.25em;background-color: #f0f8ff;}#sk-container-id-1 input.sk-toggleable__control:checked~div.sk-toggleable__content {max-height: 200px;max-width: 100%;overflow: auto;}#sk-container-id-1 input.sk-toggleable__control:checked~label.sk-toggleable__label-arrow:before {content: \"▾\";}#sk-container-id-1 div.sk-estimator input.sk-toggleable__control:checked~label.sk-toggleable__label {background-color: #d4ebff;}#sk-container-id-1 div.sk-label input.sk-toggleable__control:checked~label.sk-toggleable__label {background-color: #d4ebff;}#sk-container-id-1 input.sk-hidden--visually {border: 0;clip: rect(1px 1px 1px 1px);clip: rect(1px, 1px, 1px, 1px);height: 1px;margin: -1px;overflow: hidden;padding: 0;position: absolute;width: 1px;}#sk-container-id-1 div.sk-estimator {font-family: monospace;background-color: #f0f8ff;border: 1px dotted black;border-radius: 0.25em;box-sizing: border-box;margin-bottom: 0.5em;}#sk-container-id-1 div.sk-estimator:hover {background-color: #d4ebff;}#sk-container-id-1 div.sk-parallel-item::after {content: \"\";width: 100%;border-bottom: 1px solid gray;flex-grow: 1;}#sk-container-id-1 div.sk-label:hover label.sk-toggleable__label {background-color: #d4ebff;}#sk-container-id-1 div.sk-serial::before {content: \"\";position: absolute;border-left: 1px solid gray;box-sizing: border-box;top: 0;bottom: 0;left: 50%;z-index: 0;}#sk-container-id-1 div.sk-serial {display: flex;flex-direction: column;align-items: center;background-color: white;padding-right: 0.2em;padding-left: 0.2em;position: relative;}#sk-container-id-1 div.sk-item {position: relative;z-index: 1;}#sk-container-id-1 div.sk-parallel {display: flex;align-items: stretch;justify-content: center;background-color: white;position: relative;}#sk-container-id-1 div.sk-item::before, #sk-container-id-1 div.sk-parallel-item::before {content: \"\";position: absolute;border-left: 1px solid gray;box-sizing: border-box;top: 0;bottom: 0;left: 50%;z-index: -1;}#sk-container-id-1 div.sk-parallel-item {display: flex;flex-direction: column;z-index: 1;position: relative;background-color: white;}#sk-container-id-1 div.sk-parallel-item:first-child::after {align-self: flex-end;width: 50%;}#sk-container-id-1 div.sk-parallel-item:last-child::after {align-self: flex-start;width: 50%;}#sk-container-id-1 div.sk-parallel-item:only-child::after {width: 0;}#sk-container-id-1 div.sk-dashed-wrapped {border: 1px dashed gray;margin: 0 0.4em 0.5em 0.4em;box-sizing: border-box;padding-bottom: 0.4em;background-color: white;}#sk-container-id-1 div.sk-label label {font-family: monospace;font-weight: bold;display: inline-block;line-height: 1.2em;}#sk-container-id-1 div.sk-label-container {text-align: center;}#sk-container-id-1 div.sk-container {/* jupyter's `normalize.less` sets `[hidden] { display: none; }` but bootstrap.min.css set `[hidden] { display: none !important; }` so we also need the `!important` here to be able to override the default hidden behavior on the sphinx rendered scikit-learn.org. See: https://github.com/scikit-learn/scikit-learn/issues/21755 */display: inline-block !important;position: relative;}#sk-container-id-1 div.sk-text-repr-fallback {display: none;}</style><div id=\"sk-container-id-1\" class=\"sk-top-container\"><div class=\"sk-text-repr-fallback\"><pre>RandomForestRegressor(random_state=42)</pre><b>In a Jupyter environment, please rerun this cell to show the HTML representation or trust the notebook. <br />On GitHub, the HTML representation is unable to render, please try loading this page with nbviewer.org.</b></div><div class=\"sk-container\" hidden><div class=\"sk-item\"><div class=\"sk-estimator sk-toggleable\"><input class=\"sk-toggleable__control sk-hidden--visually\" id=\"sk-estimator-id-1\" type=\"checkbox\" checked><label for=\"sk-estimator-id-1\" class=\"sk-toggleable__label sk-toggleable__label-arrow\">RandomForestRegressor</label><div class=\"sk-toggleable__content\"><pre>RandomForestRegressor(random_state=42)</pre></div></div></div></div></div>"
      ],
      "text/plain": [
       "RandomForestRegressor(random_state=42)"
      ]
     },
     "execution_count": 5,
     "metadata": {},
     "output_type": "execute_result"
    }
   ],
   "source": [
    "model = RandomForestRegressor(n_estimators=100, random_state=42)\n",
    "model.fit(X_train, y_train)\n"
   ]
  },
  {
   "cell_type": "markdown",
   "id": "330e7b23-eace-473e-8e55-798d24c6aa78",
   "metadata": {},
   "source": [
    "### Make Predictions"
   ]
  },
  {
   "cell_type": "code",
   "execution_count": 6,
   "id": "ace5885b-eaf8-4468-bdc7-2eff0a6a1f60",
   "metadata": {},
   "outputs": [],
   "source": [
    "y_pred = model.predict(X_test)\n"
   ]
  },
  {
   "cell_type": "markdown",
   "id": "9f1b8cbd-d7b7-44c4-8d05-f80031136523",
   "metadata": {},
   "source": [
    "### Evaluate Model"
   ]
  },
  {
   "cell_type": "code",
   "execution_count": 7,
   "id": "159f72b3-8959-4b3e-9101-3fa4a64872dd",
   "metadata": {},
   "outputs": [
    {
     "name": "stdout",
     "output_type": "stream",
     "text": [
      "MAE: 77.41\n",
      "RMSE: 161.76\n",
      "R² Score: 0.83\n"
     ]
    }
   ],
   "source": [
    "mae = mean_absolute_error(y_test, y_pred)\n",
    "rmse = np.sqrt(mean_squared_error(y_test, y_pred))\n",
    "r2 = r2_score(y_test, y_pred)\n",
    "\n",
    "print(f\"MAE: {mae:.2f}\")\n",
    "print(f\"RMSE: {rmse:.2f}\")\n",
    "print(f\"R² Score: {r2:.2f}\")\n"
   ]
  },
  {
   "cell_type": "markdown",
   "id": "7f2e8596-9822-482d-8749-ad77e872900a",
   "metadata": {},
   "source": [
    "### Feature Importance Plot"
   ]
  },
  {
   "cell_type": "code",
   "execution_count": 8,
   "id": "af141a0c-9f2b-4237-879e-40f077ecf360",
   "metadata": {},
   "outputs": [
    {
     "data": {
      "image/png": "[encoded data removed]",
      "text/plain": [
       "<Figure size 1000x600 with 1 Axes>"
      ]
     },
     "metadata": {},
     "output_type": "display_data"
    }
   ],
   "source": [
    "importances = pd.Series(model.feature_importances_, index=features)\n",
    "importances.sort_values().plot(kind='barh', figsize=(10, 6), title=\"Feature Importance\")\n",
    "plt.xlabel(\"Importance Score\")\n",
    "plt.show()\n"
   ]
  },
  {
   "cell_type": "code",
   "execution_count": 9,
   "id": "dc34fff0-e71f-41c2-8930-97ad28a5ce13",
   "metadata": {},
   "outputs": [
    {
     "name": "stdout",
     "output_type": "stream",
     "text": [
      "\u001b[33mDEPRECATION: Loading egg at /opt/anaconda3/lib/python3.11/site-packages/jupyter-1.0.0-py3.11.egg is deprecated. pip 25.1 will enforce this behaviour change. A possible replacement is to use pip for package installation. Discussion can be found at https://github.com/pypa/pip/issues/12330\u001b[0m\u001b[33m\n",
      "\u001b[0m\u001b[33mDEPRECATION: Loading egg at /opt/anaconda3/lib/python3.11/site-packages/jsonpointer-3.0.0-py3.11.egg is deprecated. pip 25.1 will enforce this behaviour change. A possible replacement is to use pip for package installation. Discussion can be found at https://github.com/pypa/pip/issues/12330\u001b[0m\u001b[33m\n",
      "\u001b[0mRequirement already satisfied: xgboost in /opt/anaconda3/lib/python3.11/site-packages (2.1.3)\n",
      "Requirement already satisfied: lightgbm in /opt/anaconda3/lib/python3.11/site-packages (4.6.0)\n",
      "Requirement already satisfied: numpy in /opt/anaconda3/lib/python3.11/site-packages (from xgboost) (1.24.3)\n",
      "Requirement already satisfied: scipy in /opt/anaconda3/lib/python3.11/site-packages (from xgboost) (1.11.4)\n",
      "Note: you may need to restart the kernel to use updated packages.\n"
     ]
    }
   ],
   "source": [
    "pip install xgboost lightgbm\n"
   ]
  },
  {
   "cell_type": "code",
   "execution_count": 9,
   "id": "f57c8c2b-9f4e-44f7-a96a-f295e995011f",
   "metadata": {},
   "outputs": [],
   "source": [
    "from xgboost import XGBRegressor\n",
    "from lightgbm import LGBMRegressor\n"
   ]
  },
  {
   "cell_type": "code",
   "execution_count": 10,
   "id": "61300994-1ceb-4e31-b462-99e6a8e1289b",
   "metadata": {},
   "outputs": [],
   "source": [
    "xgb_model = XGBRegressor(n_estimators=100, learning_rate=0.1, max_depth=6, random_state=42)\n",
    "xgb_model.fit(X_train, y_train)\n",
    "\n",
    "xgb_pred = xgb_model.predict(X_test)\n"
   ]
  },
  {
   "cell_type": "code",
   "execution_count": 11,
   "id": "fef5a9de-fa3e-4ce3-a342-9c4d8ff17744",
   "metadata": {},
   "outputs": [
    {
     "name": "stdout",
     "output_type": "stream",
     "text": [
      "🔷 XGBoost Results\n",
      "MAE: 88.44\n",
      "RMSE: 173.79\n",
      "R² Score: 0.80\n"
     ]
    }
   ],
   "source": [
    "xgb_mae = mean_absolute_error(y_test, xgb_pred)\n",
    "xgb_rmse = np.sqrt(mean_squared_error(y_test, xgb_pred))\n",
    "xgb_r2 = r2_score(y_test, xgb_pred)\n",
    "\n",
    "print(\"🔷 XGBoost Results\")\n",
    "print(f\"MAE: {xgb_mae:.2f}\")\n",
    "print(f\"RMSE: {xgb_rmse:.2f}\")\n",
    "print(f\"R² Score: {xgb_r2:.2f}\")\n"
   ]
  },
  {
   "cell_type": "code",
   "execution_count": 12,
   "id": "6119a850-3fbf-451d-b035-3b11c59c764d",
   "metadata": {},
   "outputs": [
    {
     "name": "stdout",
     "output_type": "stream",
     "text": [
      "[LightGBM] [Info] Auto-choosing row-wise multi-threading, the overhead of testing was 0.004347 seconds.\n",
      "You can set `force_row_wise=true` to remove the overhead.\n",
      "And if memory is not enough, you can set `force_col_wise=true`.\n",
      "[LightGBM] [Info] Total Bins 1273\n",
      "[LightGBM] [Info] Number of data points in the train set: 365238, number of used features: 11\n",
      "[LightGBM] [Info] Start training from score 262.004249\n"
     ]
    }
   ],
   "source": [
    "lgb_model = LGBMRegressor(n_estimators=100, learning_rate=0.1, max_depth=6, random_state=42)\n",
    "lgb_model.fit(X_train, y_train)\n",
    "\n",
    "lgb_pred = lgb_model.predict(X_test)\n"
   ]
  },
  {
   "cell_type": "code",
   "execution_count": 13,
   "id": "903293f7-ccab-4128-a4b4-bda515f8fd76",
   "metadata": {},
   "outputs": [
    {
     "name": "stdout",
     "output_type": "stream",
     "text": [
      "🟢 LightGBM Results\n",
      "MAE: 91.15\n",
      "RMSE: 177.33\n",
      "R² Score: 0.79\n"
     ]
    }
   ],
   "source": [
    "lgb_mae = mean_absolute_error(y_test, lgb_pred)\n",
    "lgb_rmse = np.sqrt(mean_squared_error(y_test, lgb_pred))\n",
    "lgb_r2 = r2_score(y_test, lgb_pred)\n",
    "\n",
    "print(\"🟢 LightGBM Results\")\n",
    "print(f\"MAE: {lgb_mae:.2f}\")\n",
    "print(f\"RMSE: {lgb_rmse:.2f}\")\n",
    "print(f\"R² Score: {lgb_r2:.2f}\")\n"
   ]
  },
  {
   "cell_type": "code",
   "execution_count": 14,
   "id": "4357e61f-efe6-4c22-a063-598fecce1ab1",
   "metadata": {},
   "outputs": [
    {
     "data": {
      "text/html": [
       "<div>\n",
       "<style scoped>\n",
       "    .dataframe tbody tr th:only-of-type {\n",
       "        vertical-align: middle;\n",
       "    }\n",
       "\n",
       "    .dataframe tbody tr th {\n",
       "        vertical-align: top;\n",
       "    }\n",
       "\n",
       "    .dataframe thead th {\n",
       "        text-align: right;\n",
       "    }\n",
       "</style>\n",
       "<table border=\"1\" class=\"dataframe\">\n",
       "  <thead>\n",
       "    <tr style=\"text-align: right;\">\n",
       "      <th></th>\n",
       "      <th>Model</th>\n",
       "      <th>MAE</th>\n",
       "      <th>RMSE</th>\n",
       "      <th>R2 Score</th>\n",
       "    </tr>\n",
       "  </thead>\n",
       "  <tbody>\n",
       "    <tr>\n",
       "      <th>0</th>\n",
       "      <td>Random Forest</td>\n",
       "      <td>77.414832</td>\n",
       "      <td>161.756857</td>\n",
       "      <td>0.828462</td>\n",
       "    </tr>\n",
       "    <tr>\n",
       "      <th>1</th>\n",
       "      <td>XGBoost</td>\n",
       "      <td>88.440772</td>\n",
       "      <td>173.793542</td>\n",
       "      <td>0.801983</td>\n",
       "    </tr>\n",
       "    <tr>\n",
       "      <th>2</th>\n",
       "      <td>LightGBM</td>\n",
       "      <td>91.148702</td>\n",
       "      <td>177.330923</td>\n",
       "      <td>0.793840</td>\n",
       "    </tr>\n",
       "  </tbody>\n",
       "</table>\n",
       "</div>"
      ],
      "text/plain": [
       "           Model        MAE        RMSE  R2 Score\n",
       "0  Random Forest  77.414832  161.756857  0.828462\n",
       "1        XGBoost  88.440772  173.793542  0.801983\n",
       "2       LightGBM  91.148702  177.330923  0.793840"
      ]
     },
     "execution_count": 14,
     "metadata": {},
     "output_type": "execute_result"
    }
   ],
   "source": [
    "results = pd.DataFrame({\n",
    "    'Model': ['Random Forest', 'XGBoost', 'LightGBM'],\n",
    "    'MAE': [mae, xgb_mae, lgb_mae],\n",
    "    'RMSE': [rmse, xgb_rmse, lgb_rmse],\n",
    "    'R2 Score': [r2, xgb_r2, lgb_r2]\n",
    "})\n",
    "\n",
    "results.sort_values(by='RMSE', ascending=True)\n"
   ]
  },
  {
   "cell_type": "code",
   "execution_count": 15,
   "id": "fbd6f969-9bff-4a0f-9fc4-d363f1b3c438",
   "metadata": {},
   "outputs": [
    {
     "name": "stdout",
     "output_type": "stream",
     "text": [
      "\u001b[33mDEPRECATION: Loading egg at /opt/anaconda3/lib/python3.11/site-packages/jupyter-1.0.0-py3.11.egg is deprecated. pip 25.1 will enforce this behaviour change. A possible replacement is to use pip for package installation. Discussion can be found at https://github.com/pypa/pip/issues/12330\u001b[0m\u001b[33m\n",
      "\u001b[0m\u001b[33mDEPRECATION: Loading egg at /opt/anaconda3/lib/python3.11/site-packages/jsonpointer-3.0.0-py3.11.egg is deprecated. pip 25.1 will enforce this behaviour change. A possible replacement is to use pip for package installation. Discussion can be found at https://github.com/pypa/pip/issues/12330\u001b[0m\u001b[33m\n",
      "\u001b[0mRequirement already satisfied: scikit-learn in /opt/anaconda3/lib/python3.11/site-packages (1.2.2)\n",
      "Requirement already satisfied: xgboost in /opt/anaconda3/lib/python3.11/site-packages (2.1.3)\n",
      "Requirement already satisfied: numpy>=1.17.3 in /opt/anaconda3/lib/python3.11/site-packages (from scikit-learn) (1.24.3)\n",
      "Requirement already satisfied: scipy>=1.3.2 in /opt/anaconda3/lib/python3.11/site-packages (from scikit-learn) (1.11.4)\n",
      "Requirement already satisfied: joblib>=1.1.1 in /opt/anaconda3/lib/python3.11/site-packages (from scikit-learn) (1.2.0)\n",
      "Requirement already satisfied: threadpoolctl>=2.0.0 in /opt/anaconda3/lib/python3.11/site-packages (from scikit-learn) (2.2.0)\n",
      "Note: you may need to restart the kernel to use updated packages.\n"
     ]
    }
   ],
   "source": [
    "pip install scikit-learn xgboost\n"
   ]
  },
  {
   "cell_type": "code",
   "execution_count": 16,
   "id": "ee4195b7-377a-4e62-8a3d-c70e6b561e2d",
   "metadata": {},
   "outputs": [],
   "source": [
    "from sklearn.model_selection import GridSearchCV\n",
    "from sklearn.ensemble import RandomForestRegressor\n"
   ]
  },
  {
   "cell_type": "code",
   "execution_count": 17,
   "id": "d8e72a32-e24b-45b3-a77e-22b08a4ffcd2",
   "metadata": {},
   "outputs": [],
   "source": [
    "rf_param_grid = {\n",
    "    'n_estimators': [100, 200],\n",
    "    'max_depth': [6, 10, None],\n",
    "    'min_samples_split': [2, 5]\n",
    "}\n"
   ]
  },
  {
   "cell_type": "code",
   "execution_count": 18,
   "id": "5d6605cd-a6da-4024-a16d-d63888592459",
   "metadata": {},
   "outputs": [
    {
     "name": "stdout",
     "output_type": "stream",
     "text": [
      "Fitting 3 folds for each of 12 candidates, totalling 36 fits\n",
      "[CV] END .max_depth=6, min_samples_split=2, n_estimators=100; total time=  51.1s\n",
      "[CV] END .max_depth=6, min_samples_split=5, n_estimators=200; total time= 1.8min\n",
      "[CV] END max_depth=10, min_samples_split=5, n_estimators=100; total time= 1.4min\n",
      "[CV] END max_depth=10, min_samples_split=5, n_estimators=200; total time= 2.8min\n",
      "[CV] END max_depth=None, min_samples_split=5, n_estimators=200; total time= 4.2min\n",
      "[CV] END .max_depth=6, min_samples_split=2, n_estimators=100; total time=  50.6s\n",
      "[CV] END .max_depth=6, min_samples_split=5, n_estimators=100; total time=  54.0s\n",
      "[CV] END max_depth=10, min_samples_split=2, n_estimators=200; total time= 2.8min\n",
      "[CV] END max_depth=None, min_samples_split=2, n_estimators=100; total time= 2.7min\n",
      "[CV] END max_depth=None, min_samples_split=5, n_estimators=200; total time= 4.0min\n",
      "[CV] END .max_depth=6, min_samples_split=2, n_estimators=200; total time= 1.7min\n",
      "[CV] END max_depth=10, min_samples_split=2, n_estimators=100; total time= 1.4min\n",
      "[CV] END max_depth=10, min_samples_split=5, n_estimators=200; total time= 2.8min\n",
      "[CV] END max_depth=None, min_samples_split=5, n_estimators=100; total time= 2.4min\n",
      "[CV] END max_depth=None, min_samples_split=5, n_estimators=200; total time= 3.4min\n",
      "[CV] END .max_depth=6, min_samples_split=5, n_estimators=100; total time=  51.4s\n",
      "[CV] END .max_depth=6, min_samples_split=5, n_estimators=200; total time= 1.8min\n",
      "[CV] END max_depth=10, min_samples_split=5, n_estimators=100; total time= 1.4min\n",
      "[CV] END max_depth=None, min_samples_split=2, n_estimators=100; total time= 2.7min\n",
      "[CV] END max_depth=None, min_samples_split=5, n_estimators=100; total time= 2.4min\n",
      "[CV] END .max_depth=6, min_samples_split=5, n_estimators=100; total time=  51.2s\n",
      "[CV] END .max_depth=6, min_samples_split=5, n_estimators=200; total time= 1.8min\n",
      "[CV] END max_depth=10, min_samples_split=5, n_estimators=100; total time= 1.4min\n",
      "[CV] END max_depth=None, min_samples_split=2, n_estimators=100; total time= 2.7min\n",
      "[CV] END max_depth=None, min_samples_split=5, n_estimators=100; total time= 2.4min\n",
      "[CV] END .max_depth=6, min_samples_split=2, n_estimators=200; total time= 1.7min\n",
      "[CV] END max_depth=10, min_samples_split=2, n_estimators=200; total time= 2.8min\n",
      "[CV] END max_depth=None, min_samples_split=2, n_estimators=200; total time= 5.2min\n"
     ]
    },
    {
     "data": {
      "text/html": [
       "<style>#sk-container-id-2 {color: black;background-color: white;}#sk-container-id-2 pre{padding: 0;}#sk-container-id-2 div.sk-toggleable {background-color: white;}#sk-container-id-2 label.sk-toggleable__label {cursor: pointer;display: block;width: 100%;margin-bottom: 0;padding: 0.3em;box-sizing: border-box;text-align: center;}#sk-container-id-2 label.sk-toggleable__label-arrow:before {content: \"▸\";float: left;margin-right: 0.25em;color: #696969;}#sk-container-id-2 label.sk-toggleable__label-arrow:hover:before {color: black;}#sk-container-id-2 div.sk-estimator:hover label.sk-toggleable__label-arrow:before {color: black;}#sk-container-id-2 div.sk-toggleable__content {max-height: 0;max-width: 0;overflow: hidden;text-align: left;background-color: #f0f8ff;}#sk-container-id-2 div.sk-toggleable__content pre {margin: 0.2em;color: black;border-radius: 0.25em;background-color: #f0f8ff;}#sk-container-id-2 input.sk-toggleable__control:checked~div.sk-toggleable__content {max-height: 200px;max-width: 100%;overflow: auto;}#sk-container-id-2 input.sk-toggleable__control:checked~label.sk-toggleable__label-arrow:before {content: \"▾\";}#sk-container-id-2 div.sk-estimator input.sk-toggleable__control:checked~label.sk-toggleable__label {background-color: #d4ebff;}#sk-container-id-2 div.sk-label input.sk-toggleable__control:checked~label.sk-toggleable__label {background-color: #d4ebff;}#sk-container-id-2 input.sk-hidden--visually {border: 0;clip: rect(1px 1px 1px 1px);clip: rect(1px, 1px, 1px, 1px);height: 1px;margin: -1px;overflow: hidden;padding: 0;position: absolute;width: 1px;}#sk-container-id-2 div.sk-estimator {font-family: monospace;background-color: #f0f8ff;border: 1px dotted black;border-radius: 0.25em;box-sizing: border-box;margin-bottom: 0.5em;}#sk-container-id-2 div.sk-estimator:hover {background-color: #d4ebff;}#sk-container-id-2 div.sk-parallel-item::after {content: \"\";width: 100%;border-bottom: 1px solid gray;flex-grow: 1;}#sk-container-id-2 div.sk-label:hover label.sk-toggleable__label {background-color: #d4ebff;}#sk-container-id-2 div.sk-serial::before {content: \"\";position: absolute;border-left: 1px solid gray;box-sizing: border-box;top: 0;bottom: 0;left: 50%;z-index: 0;}#sk-container-id-2 div.sk-serial {display: flex;flex-direction: column;align-items: center;background-color: white;padding-right: 0.2em;padding-left: 0.2em;position: relative;}#sk-container-id-2 div.sk-item {position: relative;z-index: 1;}#sk-container-id-2 div.sk-parallel {display: flex;align-items: stretch;justify-content: center;background-color: white;position: relative;}#sk-container-id-2 div.sk-item::before, #sk-container-id-2 div.sk-parallel-item::before {content: \"\";position: absolute;border-left: 1px solid gray;box-sizing: border-box;top: 0;bottom: 0;left: 50%;z-index: -1;}#sk-container-id-2 div.sk-parallel-item {display: flex;flex-direction: column;z-index: 1;position: relative;background-color: white;}#sk-container-id-2 div.sk-parallel-item:first-child::after {align-self: flex-end;width: 50%;}#sk-container-id-2 div.sk-parallel-item:last-child::after {align-self: flex-start;width: 50%;}#sk-container-id-2 div.sk-parallel-item:only-child::after {width: 0;}#sk-container-id-2 div.sk-dashed-wrapped {border: 1px dashed gray;margin: 0 0.4em 0.5em 0.4em;box-sizing: border-box;padding-bottom: 0.4em;background-color: white;}#sk-container-id-2 div.sk-label label {font-family: monospace;font-weight: bold;display: inline-block;line-height: 1.2em;}#sk-container-id-2 div.sk-label-container {text-align: center;}#sk-container-id-2 div.sk-container {/* jupyter's `normalize.less` sets `[hidden] { display: none; }` but bootstrap.min.css set `[hidden] { display: none !important; }` so we also need the `!important` here to be able to override the default hidden behavior on the sphinx rendered scikit-learn.org. See: https://github.com/scikit-learn/scikit-learn/issues/21755 */display: inline-block !important;position: relative;}#sk-container-id-2 div.sk-text-repr-fallback {display: none;}</style><div id=\"sk-container-id-2\" class=\"sk-top-container\"><div class=\"sk-text-repr-fallback\"><pre>GridSearchCV(cv=3, estimator=RandomForestRegressor(random_state=42), n_jobs=-1,\n",
       "             param_grid={&#x27;max_depth&#x27;: [6, 10, None],\n",
       "                         &#x27;min_samples_split&#x27;: [2, 5],\n",
       "                         &#x27;n_estimators&#x27;: [100, 200]},\n",
       "             scoring=&#x27;neg_root_mean_squared_error&#x27;, verbose=2)</pre><b>In a Jupyter environment, please rerun this cell to show the HTML representation or trust the notebook. <br />On GitHub, the HTML representation is unable to render, please try loading this page with nbviewer.org.</b></div><div class=\"sk-container\" hidden><div class=\"sk-item sk-dashed-wrapped\"><div class=\"sk-label-container\"><div class=\"sk-label sk-toggleable\"><input class=\"sk-toggleable__control sk-hidden--visually\" id=\"sk-estimator-id-2\" type=\"checkbox\" ><label for=\"sk-estimator-id-2\" class=\"sk-toggleable__label sk-toggleable__label-arrow\">GridSearchCV</label><div class=\"sk-toggleable__content\"><pre>GridSearchCV(cv=3, estimator=RandomForestRegressor(random_state=42), n_jobs=-1,\n",
       "             param_grid={&#x27;max_depth&#x27;: [6, 10, None],\n",
       "                         &#x27;min_samples_split&#x27;: [2, 5],\n",
       "                         &#x27;n_estimators&#x27;: [100, 200]},\n",
       "             scoring=&#x27;neg_root_mean_squared_error&#x27;, verbose=2)</pre></div></div></div><div class=\"sk-parallel\"><div class=\"sk-parallel-item\"><div class=\"sk-item\"><div class=\"sk-label-container\"><div class=\"sk-label sk-toggleable\"><input class=\"sk-toggleable__control sk-hidden--visually\" id=\"sk-estimator-id-3\" type=\"checkbox\" ><label for=\"sk-estimator-id-3\" class=\"sk-toggleable__label sk-toggleable__label-arrow\">estimator: RandomForestRegressor</label><div class=\"sk-toggleable__content\"><pre>RandomForestRegressor(random_state=42)</pre></div></div></div><div class=\"sk-serial\"><div class=\"sk-item\"><div class=\"sk-estimator sk-toggleable\"><input class=\"sk-toggleable__control sk-hidden--visually\" id=\"sk-estimator-id-4\" type=\"checkbox\" ><label for=\"sk-estimator-id-4\" class=\"sk-toggleable__label sk-toggleable__label-arrow\">RandomForestRegressor</label><div class=\"sk-toggleable__content\"><pre>RandomForestRegressor(random_state=42)</pre></div></div></div></div></div></div></div></div></div></div>"
      ],
      "text/plain": [
       "GridSearchCV(cv=3, estimator=RandomForestRegressor(random_state=42), n_jobs=-1,\n",
       "             param_grid={'max_depth': [6, 10, None],\n",
       "                         'min_samples_split': [2, 5],\n",
       "                         'n_estimators': [100, 200]},\n",
       "             scoring='neg_root_mean_squared_error', verbose=2)"
      ]
     },
     "execution_count": 18,
     "metadata": {},
     "output_type": "execute_result"
    },
    {
     "name": "stdout",
     "output_type": "stream",
     "text": [
      "[CV] END .max_depth=6, min_samples_split=2, n_estimators=100; total time=  51.5s\n",
      "[CV] END max_depth=10, min_samples_split=2, n_estimators=100; total time= 1.3min\n",
      "[CV] END max_depth=10, min_samples_split=2, n_estimators=200; total time= 2.8min\n",
      "[CV] END max_depth=None, min_samples_split=2, n_estimators=200; total time= 5.1min\n",
      "[CV] END .max_depth=6, min_samples_split=2, n_estimators=200; total time= 1.7min\n",
      "[CV] END max_depth=10, min_samples_split=2, n_estimators=100; total time= 1.4min\n",
      "[CV] END max_depth=10, min_samples_split=5, n_estimators=200; total time= 2.7min\n",
      "[CV] END max_depth=None, min_samples_split=2, n_estimators=200; total time= 4.8min\n"
     ]
    }
   ],
   "source": [
    "rf = RandomForestRegressor(random_state=42)\n",
    "\n",
    "rf_grid = GridSearchCV(\n",
    "    estimator=rf,\n",
    "    param_grid=rf_param_grid,\n",
    "    cv=3,\n",
    "    scoring='neg_root_mean_squared_error',\n",
    "    verbose=2,\n",
    "    n_jobs=-1\n",
    ")\n",
    "\n",
    "rf_grid.fit(X_train, y_train)\n"
   ]
  },
  {
   "cell_type": "code",
   "execution_count": 19,
   "id": "1ebb445f-4f8c-4b37-b16f-a7df7d81fc13",
   "metadata": {},
   "outputs": [
    {
     "name": "stdout",
     "output_type": "stream",
     "text": [
      "✅ Best Params: {'max_depth': None, 'min_samples_split': 5, 'n_estimators': 200}\n",
      "📊 Tuned Random Forest\n",
      "MAE: 76.26\n",
      "RMSE: 160.33\n",
      "R² Score: 0.83\n"
     ]
    }
   ],
   "source": [
    "print(\"✅ Best Params:\", rf_grid.best_params_)\n",
    "\n",
    "best_rf = rf_grid.best_estimator_\n",
    "y_pred_rf = best_rf.predict(X_test)\n",
    "\n",
    "rf_mae = mean_absolute_error(y_test, y_pred_rf)\n",
    "rf_rmse = np.sqrt(mean_squared_error(y_test, y_pred_rf))\n",
    "rf_r2 = r2_score(y_test, y_pred_rf)\n",
    "\n",
    "print(\"📊 Tuned Random Forest\")\n",
    "print(f\"MAE: {rf_mae:.2f}\")\n",
    "print(f\"RMSE: {rf_rmse:.2f}\")\n",
    "print(f\"R² Score: {rf_r2:.2f}\")\n"
   ]
  },
  {
   "cell_type": "code",
   "execution_count": 20,
   "id": "8520a70a-e9c9-4c06-bed3-ae2b0833bad0",
   "metadata": {},
   "outputs": [],
   "source": [
    "from xgboost import XGBRegressor\n",
    "\n",
    "xgb_param_grid = {\n",
    "    'n_estimators': [100, 200],\n",
    "    'max_depth': [4, 6],\n",
    "    'learning_rate': [0.05, 0.1],\n",
    "    'subsample': [0.8, 1.0]\n",
    "}\n"
   ]
  },
  {
   "cell_type": "code",
   "execution_count": 21,
   "id": "e20d9aca-e9e6-4f0b-8a94-75b0599b70ed",
   "metadata": {},
   "outputs": [
    {
     "name": "stdout",
     "output_type": "stream",
     "text": [
      "Fitting 3 folds for each of 16 candidates, totalling 48 fits\n"
     ]
    },
    {
     "data": {
      "text/html": [
       "<style>#sk-container-id-3 {color: black;background-color: white;}#sk-container-id-3 pre{padding: 0;}#sk-container-id-3 div.sk-toggleable {background-color: white;}#sk-container-id-3 label.sk-toggleable__label {cursor: pointer;display: block;width: 100%;margin-bottom: 0;padding: 0.3em;box-sizing: border-box;text-align: center;}#sk-container-id-3 label.sk-toggleable__label-arrow:before {content: \"▸\";float: left;margin-right: 0.25em;color: #696969;}#sk-container-id-3 label.sk-toggleable__label-arrow:hover:before {color: black;}#sk-container-id-3 div.sk-estimator:hover label.sk-toggleable__label-arrow:before {color: black;}#sk-container-id-3 div.sk-toggleable__content {max-height: 0;max-width: 0;overflow: hidden;text-align: left;background-color: #f0f8ff;}#sk-container-id-3 div.sk-toggleable__content pre {margin: 0.2em;color: black;border-radius: 0.25em;background-color: #f0f8ff;}#sk-container-id-3 input.sk-toggleable__control:checked~div.sk-toggleable__content {max-height: 200px;max-width: 100%;overflow: auto;}#sk-container-id-3 input.sk-toggleable__control:checked~label.sk-toggleable__label-arrow:before {content: \"▾\";}#sk-container-id-3 div.sk-estimator input.sk-toggleable__control:checked~label.sk-toggleable__label {background-color: #d4ebff;}#sk-container-id-3 div.sk-label input.sk-toggleable__control:checked~label.sk-toggleable__label {background-color: #d4ebff;}#sk-container-id-3 input.sk-hidden--visually {border: 0;clip: rect(1px 1px 1px 1px);clip: rect(1px, 1px, 1px, 1px);height: 1px;margin: -1px;overflow: hidden;padding: 0;position: absolute;width: 1px;}#sk-container-id-3 div.sk-estimator {font-family: monospace;background-color: #f0f8ff;border: 1px dotted black;border-radius: 0.25em;box-sizing: border-box;margin-bottom: 0.5em;}#sk-container-id-3 div.sk-estimator:hover {background-color: #d4ebff;}#sk-container-id-3 div.sk-parallel-item::after {content: \"\";width: 100%;border-bottom: 1px solid gray;flex-grow: 1;}#sk-container-id-3 div.sk-label:hover label.sk-toggleable__label {background-color: #d4ebff;}#sk-container-id-3 div.sk-serial::before {content: \"\";position: absolute;border-left: 1px solid gray;box-sizing: border-box;top: 0;bottom: 0;left: 50%;z-index: 0;}#sk-container-id-3 div.sk-serial {display: flex;flex-direction: column;align-items: center;background-color: white;padding-right: 0.2em;padding-left: 0.2em;position: relative;}#sk-container-id-3 div.sk-item {position: relative;z-index: 1;}#sk-container-id-3 div.sk-parallel {display: flex;align-items: stretch;justify-content: center;background-color: white;position: relative;}#sk-container-id-3 div.sk-item::before, #sk-container-id-3 div.sk-parallel-item::before {content: \"\";position: absolute;border-left: 1px solid gray;box-sizing: border-box;top: 0;bottom: 0;left: 50%;z-index: -1;}#sk-container-id-3 div.sk-parallel-item {display: flex;flex-direction: column;z-index: 1;position: relative;background-color: white;}#sk-container-id-3 div.sk-parallel-item:first-child::after {align-self: flex-end;width: 50%;}#sk-container-id-3 div.sk-parallel-item:last-child::after {align-self: flex-start;width: 50%;}#sk-container-id-3 div.sk-parallel-item:only-child::after {width: 0;}#sk-container-id-3 div.sk-dashed-wrapped {border: 1px dashed gray;margin: 0 0.4em 0.5em 0.4em;box-sizing: border-box;padding-bottom: 0.4em;background-color: white;}#sk-container-id-3 div.sk-label label {font-family: monospace;font-weight: bold;display: inline-block;line-height: 1.2em;}#sk-container-id-3 div.sk-label-container {text-align: center;}#sk-container-id-3 div.sk-container {/* jupyter's `normalize.less` sets `[hidden] { display: none; }` but bootstrap.min.css set `[hidden] { display: none !important; }` so we also need the `!important` here to be able to override the default hidden behavior on the sphinx rendered scikit-learn.org. See: https://github.com/scikit-learn/scikit-learn/issues/21755 */display: inline-block !important;position: relative;}#sk-container-id-3 div.sk-text-repr-fallback {display: none;}</style><div id=\"sk-container-id-3\" class=\"sk-top-container\"><div class=\"sk-text-repr-fallback\"><pre>GridSearchCV(cv=3,\n",
       "             estimator=XGBRegressor(base_score=None, booster=None,\n",
       "                                    callbacks=None, colsample_bylevel=None,\n",
       "                                    colsample_bynode=None,\n",
       "                                    colsample_bytree=None, device=None,\n",
       "                                    early_stopping_rounds=None,\n",
       "                                    enable_categorical=False, eval_metric=None,\n",
       "                                    feature_types=None, gamma=None,\n",
       "                                    grow_policy=None, importance_type=None,\n",
       "                                    interaction_constraints=None,\n",
       "                                    learning_rate=None, m...\n",
       "                                    max_cat_to_onehot=None, max_delta_step=None,\n",
       "                                    max_depth=None, max_leaves=None,\n",
       "                                    min_child_weight=None, missing=nan,\n",
       "                                    monotone_constraints=None,\n",
       "                                    multi_strategy=None, n_estimators=None,\n",
       "                                    n_jobs=None, num_parallel_tree=None,\n",
       "                                    random_state=42, ...),\n",
       "             n_jobs=-1,\n",
       "             param_grid={&#x27;learning_rate&#x27;: [0.05, 0.1], &#x27;max_depth&#x27;: [4, 6],\n",
       "                         &#x27;n_estimators&#x27;: [100, 200], &#x27;subsample&#x27;: [0.8, 1.0]},\n",
       "             scoring=&#x27;neg_root_mean_squared_error&#x27;, verbose=2)</pre><b>In a Jupyter environment, please rerun this cell to show the HTML representation or trust the notebook. <br />On GitHub, the HTML representation is unable to render, please try loading this page with nbviewer.org.</b></div><div class=\"sk-container\" hidden><div class=\"sk-item sk-dashed-wrapped\"><div class=\"sk-label-container\"><div class=\"sk-label sk-toggleable\"><input class=\"sk-toggleable__control sk-hidden--visually\" id=\"sk-estimator-id-5\" type=\"checkbox\" ><label for=\"sk-estimator-id-5\" class=\"sk-toggleable__label sk-toggleable__label-arrow\">GridSearchCV</label><div class=\"sk-toggleable__content\"><pre>GridSearchCV(cv=3,\n",
       "             estimator=XGBRegressor(base_score=None, booster=None,\n",
       "                                    callbacks=None, colsample_bylevel=None,\n",
       "                                    colsample_bynode=None,\n",
       "                                    colsample_bytree=None, device=None,\n",
       "                                    early_stopping_rounds=None,\n",
       "                                    enable_categorical=False, eval_metric=None,\n",
       "                                    feature_types=None, gamma=None,\n",
       "                                    grow_policy=None, importance_type=None,\n",
       "                                    interaction_constraints=None,\n",
       "                                    learning_rate=None, m...\n",
       "                                    max_cat_to_onehot=None, max_delta_step=None,\n",
       "                                    max_depth=None, max_leaves=None,\n",
       "                                    min_child_weight=None, missing=nan,\n",
       "                                    monotone_constraints=None,\n",
       "                                    multi_strategy=None, n_estimators=None,\n",
       "                                    n_jobs=None, num_parallel_tree=None,\n",
       "                                    random_state=42, ...),\n",
       "             n_jobs=-1,\n",
       "             param_grid={&#x27;learning_rate&#x27;: [0.05, 0.1], &#x27;max_depth&#x27;: [4, 6],\n",
       "                         &#x27;n_estimators&#x27;: [100, 200], &#x27;subsample&#x27;: [0.8, 1.0]},\n",
       "             scoring=&#x27;neg_root_mean_squared_error&#x27;, verbose=2)</pre></div></div></div><div class=\"sk-parallel\"><div class=\"sk-parallel-item\"><div class=\"sk-item\"><div class=\"sk-label-container\"><div class=\"sk-label sk-toggleable\"><input class=\"sk-toggleable__control sk-hidden--visually\" id=\"sk-estimator-id-6\" type=\"checkbox\" ><label for=\"sk-estimator-id-6\" class=\"sk-toggleable__label sk-toggleable__label-arrow\">estimator: XGBRegressor</label><div class=\"sk-toggleable__content\"><pre>XGBRegressor(base_score=None, booster=None, callbacks=None,\n",
       "             colsample_bylevel=None, colsample_bynode=None,\n",
       "             colsample_bytree=None, device=None, early_stopping_rounds=None,\n",
       "             enable_categorical=False, eval_metric=None, feature_types=None,\n",
       "             gamma=None, grow_policy=None, importance_type=None,\n",
       "             interaction_constraints=None, learning_rate=None, max_bin=None,\n",
       "             max_cat_threshold=None, max_cat_to_onehot=None,\n",
       "             max_delta_step=None, max_depth=None, max_leaves=None,\n",
       "             min_child_weight=None, missing=nan, monotone_constraints=None,\n",
       "             multi_strategy=None, n_estimators=None, n_jobs=None,\n",
       "             num_parallel_tree=None, random_state=42, ...)</pre></div></div></div><div class=\"sk-serial\"><div class=\"sk-item\"><div class=\"sk-estimator sk-toggleable\"><input class=\"sk-toggleable__control sk-hidden--visually\" id=\"sk-estimator-id-7\" type=\"checkbox\" ><label for=\"sk-estimator-id-7\" class=\"sk-toggleable__label sk-toggleable__label-arrow\">XGBRegressor</label><div class=\"sk-toggleable__content\"><pre>XGBRegressor(base_score=None, booster=None, callbacks=None,\n",
       "             colsample_bylevel=None, colsample_bynode=None,\n",
       "             colsample_bytree=None, device=None, early_stopping_rounds=None,\n",
       "             enable_categorical=False, eval_metric=None, feature_types=None,\n",
       "             gamma=None, grow_policy=None, importance_type=None,\n",
       "             interaction_constraints=None, learning_rate=None, max_bin=None,\n",
       "             max_cat_threshold=None, max_cat_to_onehot=None,\n",
       "             max_delta_step=None, max_depth=None, max_leaves=None,\n",
       "             min_child_weight=None, missing=nan, monotone_constraints=None,\n",
       "             multi_strategy=None, n_estimators=None, n_jobs=None,\n",
       "             num_parallel_tree=None, random_state=42, ...)</pre></div></div></div></div></div></div></div></div></div></div>"
      ],
      "text/plain": [
       "GridSearchCV(cv=3,\n",
       "             estimator=XGBRegressor(base_score=None, booster=None,\n",
       "                                    callbacks=None, colsample_bylevel=None,\n",
       "                                    colsample_bynode=None,\n",
       "                                    colsample_bytree=None, device=None,\n",
       "                                    early_stopping_rounds=None,\n",
       "                                    enable_categorical=False, eval_metric=None,\n",
       "                                    feature_types=None, gamma=None,\n",
       "                                    grow_policy=None, importance_type=None,\n",
       "                                    interaction_constraints=None,\n",
       "                                    learning_rate=None, m...\n",
       "                                    max_cat_to_onehot=None, max_delta_step=None,\n",
       "                                    max_depth=None, max_leaves=None,\n",
       "                                    min_child_weight=None, missing=nan,\n",
       "                                    monotone_constraints=None,\n",
       "                                    multi_strategy=None, n_estimators=None,\n",
       "                                    n_jobs=None, num_parallel_tree=None,\n",
       "                                    random_state=42, ...),\n",
       "             n_jobs=-1,\n",
       "             param_grid={'learning_rate': [0.05, 0.1], 'max_depth': [4, 6],\n",
       "                         'n_estimators': [100, 200], 'subsample': [0.8, 1.0]},\n",
       "             scoring='neg_root_mean_squared_error', verbose=2)"
      ]
     },
     "execution_count": 21,
     "metadata": {},
     "output_type": "execute_result"
    },
    {
     "name": "stdout",
     "output_type": "stream",
     "text": [
      "[CV] END learning_rate=0.05, max_depth=4, n_estimators=200, subsample=0.8; total time=   3.8s\n",
      "[CV] END learning_rate=0.05, max_depth=6, n_estimators=100, subsample=0.8; total time=   2.9s\n",
      "[CV] END learning_rate=0.05, max_depth=6, n_estimators=200, subsample=1.0; total time=   4.7s\n",
      "[CV] END learning_rate=0.1, max_depth=4, n_estimators=200, subsample=1.0; total time=   2.9s\n",
      "[CV] END learning_rate=0.1, max_depth=6, n_estimators=100, subsample=1.0; total time=   2.4s\n",
      "[CV] END learning_rate=0.05, max_depth=4, n_estimators=200, subsample=0.8; total time=   3.9s\n",
      "[CV] END learning_rate=0.05, max_depth=6, n_estimators=100, subsample=1.0; total time=   2.7s\n",
      "[CV] END learning_rate=0.05, max_depth=6, n_estimators=200, subsample=1.0; total time=   4.6s\n",
      "[CV] END learning_rate=0.1, max_depth=4, n_estimators=200, subsample=0.8; total time=   3.1s\n",
      "[CV] END learning_rate=0.1, max_depth=6, n_estimators=100, subsample=1.0; total time=   2.5s\n",
      "[CV] END learning_rate=0.05, max_depth=4, n_estimators=100, subsample=0.8; total time=   2.2s\n",
      "[CV] END learning_rate=0.05, max_depth=4, n_estimators=200, subsample=1.0; total time=   3.5s\n",
      "[CV] END learning_rate=0.05, max_depth=6, n_estimators=200, subsample=0.8; total time=   5.1s\n",
      "[CV] END learning_rate=0.1, max_depth=4, n_estimators=100, subsample=1.0; total time=   1.5s\n",
      "[CV] END learning_rate=0.1, max_depth=6, n_estimators=100, subsample=0.8; total time=   2.3s\n",
      "[CV] END learning_rate=0.1, max_depth=6, n_estimators=200, subsample=1.0; total time=   4.0s\n",
      "[CV] END learning_rate=0.05, max_depth=4, n_estimators=100, subsample=1.0; total time=   2.2s\n",
      "[CV] END learning_rate=0.05, max_depth=4, n_estimators=200, subsample=0.8; total time=   3.7s\n",
      "[CV] END learning_rate=0.05, max_depth=6, n_estimators=200, subsample=1.0; total time=   4.9s\n",
      "[CV] END learning_rate=0.1, max_depth=4, n_estimators=100, subsample=1.0; total time=   1.5s\n",
      "[CV] END learning_rate=0.1, max_depth=6, n_estimators=100, subsample=0.8; total time=   2.3s\n",
      "[CV] END learning_rate=0.1, max_depth=6, n_estimators=200, subsample=0.8; total time=   4.3s\n",
      "[CV] END learning_rate=0.05, max_depth=4, n_estimators=100, subsample=0.8; total time=   2.3s\n",
      "[CV] END learning_rate=0.05, max_depth=6, n_estimators=100, subsample=0.8; total time=   3.0s\n",
      "[CV] END learning_rate=0.05, max_depth=6, n_estimators=100, subsample=1.0; total time=   2.7s\n",
      "[CV] END learning_rate=0.1, max_depth=4, n_estimators=100, subsample=0.8; total time=   2.1s\n",
      "[CV] END learning_rate=0.1, max_depth=4, n_estimators=100, subsample=1.0; total time=   1.5s\n",
      "[CV] END learning_rate=0.1, max_depth=4, n_estimators=200, subsample=1.0; total time=   2.7s\n",
      "[CV] END learning_rate=0.1, max_depth=6, n_estimators=200, subsample=0.8; total time=   4.3s\n",
      "[CV] END learning_rate=0.05, max_depth=4, n_estimators=100, subsample=0.8; total time=   2.3s\n",
      "[CV] END learning_rate=0.05, max_depth=6, n_estimators=100, subsample=0.8; total time=   3.1s\n",
      "[CV] END learning_rate=0.05, max_depth=6, n_estimators=100, subsample=1.0; total time=   2.5s\n",
      "[CV] END learning_rate=0.1, max_depth=4, n_estimators=100, subsample=0.8; total time=   2.2s\n",
      "[CV] END learning_rate=0.1, max_depth=4, n_estimators=100, subsample=0.8; total time=   1.7s\n",
      "[CV] END learning_rate=0.1, max_depth=4, n_estimators=200, subsample=1.0; total time=   2.8s\n",
      "[CV] END learning_rate=0.1, max_depth=6, n_estimators=200, subsample=0.8; total time=   4.2s\n",
      "[CV] END learning_rate=0.05, max_depth=4, n_estimators=100, subsample=1.0; total time=   2.2s\n",
      "[CV] END learning_rate=0.05, max_depth=4, n_estimators=200, subsample=1.0; total time=   3.5s\n",
      "[CV] END learning_rate=0.05, max_depth=6, n_estimators=200, subsample=0.8; total time=   5.1s\n",
      "[CV] END learning_rate=0.1, max_depth=4, n_estimators=200, subsample=0.8; total time=   3.0s\n",
      "[CV] END learning_rate=0.1, max_depth=6, n_estimators=100, subsample=0.8; total time=   2.5s\n",
      "[CV] END learning_rate=0.1, max_depth=6, n_estimators=200, subsample=1.0; total time=   3.0s\n",
      "[CV] END learning_rate=0.05, max_depth=4, n_estimators=100, subsample=1.0; total time=   2.2s\n",
      "[CV] END learning_rate=0.05, max_depth=4, n_estimators=200, subsample=1.0; total time=   3.6s\n",
      "[CV] END learning_rate=0.05, max_depth=6, n_estimators=200, subsample=0.8; total time=   5.1s\n",
      "[CV] END learning_rate=0.1, max_depth=4, n_estimators=200, subsample=0.8; total time=   2.9s\n",
      "[CV] END learning_rate=0.1, max_depth=6, n_estimators=100, subsample=1.0; total time=   2.5s\n",
      "[CV] END learning_rate=0.1, max_depth=6, n_estimators=200, subsample=1.0; total time=   3.0s\n"
     ]
    }
   ],
   "source": [
    "xgb = XGBRegressor(random_state=42)\n",
    "\n",
    "xgb_grid = GridSearchCV(\n",
    "    estimator=xgb,\n",
    "    param_grid=xgb_param_grid,\n",
    "    cv=3,\n",
    "    scoring='neg_root_mean_squared_error',\n",
    "    verbose=2,\n",
    "    n_jobs=-1\n",
    ")\n",
    "\n",
    "xgb_grid.fit(X_train, y_train)\n"
   ]
  },
  {
   "cell_type": "code",
   "execution_count": 22,
   "id": "7040183d-a9ac-4f7e-aa30-5e3f7e8194ef",
   "metadata": {},
   "outputs": [
    {
     "name": "stdout",
     "output_type": "stream",
     "text": [
      "✅ Best Params: {'learning_rate': 0.1, 'max_depth': 6, 'n_estimators': 200, 'subsample': 1.0}\n",
      "📊 Tuned XGBoost\n",
      "MAE: 83.94\n",
      "RMSE: 166.50\n",
      "R² Score: 0.82\n"
     ]
    }
   ],
   "source": [
    "print(\"✅ Best Params:\", xgb_grid.best_params_)\n",
    "\n",
    "best_xgb = xgb_grid.best_estimator_\n",
    "y_pred_xgb = best_xgb.predict(X_test)\n",
    "\n",
    "xgb_mae = mean_absolute_error(y_test, y_pred_xgb)\n",
    "xgb_rmse = np.sqrt(mean_squared_error(y_test, y_pred_xgb))\n",
    "xgb_r2 = r2_score(y_test, y_pred_xgb)\n",
    "\n",
    "print(\"📊 Tuned XGBoost\")\n",
    "print(f\"MAE: {xgb_mae:.2f}\")\n",
    "print(f\"RMSE: {xgb_rmse:.2f}\")\n",
    "print(f\"R² Score: {xgb_r2:.2f}\")\n"
   ]
  },
  {
   "cell_type": "code",
   "execution_count": 24,
   "id": "fd057403-a021-458e-bf67-a40c99e5bc24",
   "metadata": {},
   "outputs": [
    {
     "data": {
      "text/html": [
       "<div>\n",
       "<style scoped>\n",
       "    .dataframe tbody tr th:only-of-type {\n",
       "        vertical-align: middle;\n",
       "    }\n",
       "\n",
       "    .dataframe tbody tr th {\n",
       "        vertical-align: top;\n",
       "    }\n",
       "\n",
       "    .dataframe thead th {\n",
       "        text-align: right;\n",
       "    }\n",
       "</style>\n",
       "<table border=\"1\" class=\"dataframe\">\n",
       "  <thead>\n",
       "    <tr style=\"text-align: right;\">\n",
       "      <th></th>\n",
       "      <th>Model</th>\n",
       "      <th>MAE</th>\n",
       "      <th>RMSE</th>\n",
       "      <th>R2 Score</th>\n",
       "    </tr>\n",
       "  </thead>\n",
       "  <tbody>\n",
       "    <tr>\n",
       "      <th>0</th>\n",
       "      <td>Random Forest (tuned)</td>\n",
       "      <td>76.26</td>\n",
       "      <td>160.33</td>\n",
       "      <td>0.83</td>\n",
       "    </tr>\n",
       "    <tr>\n",
       "      <th>1</th>\n",
       "      <td>Random Forest (baseline)</td>\n",
       "      <td>77.41</td>\n",
       "      <td>161.76</td>\n",
       "      <td>0.83</td>\n",
       "    </tr>\n",
       "    <tr>\n",
       "      <th>2</th>\n",
       "      <td>XGBoost (tuned)</td>\n",
       "      <td>83.94</td>\n",
       "      <td>166.50</td>\n",
       "      <td>0.82</td>\n",
       "    </tr>\n",
       "    <tr>\n",
       "      <th>3</th>\n",
       "      <td>XGBoost (baseline)</td>\n",
       "      <td>88.44</td>\n",
       "      <td>173.79</td>\n",
       "      <td>0.80</td>\n",
       "    </tr>\n",
       "    <tr>\n",
       "      <th>4</th>\n",
       "      <td>LightGBM (baseline)</td>\n",
       "      <td>91.15</td>\n",
       "      <td>177.33</td>\n",
       "      <td>0.79</td>\n",
       "    </tr>\n",
       "  </tbody>\n",
       "</table>\n",
       "</div>"
      ],
      "text/plain": [
       "                      Model    MAE    RMSE  R2 Score\n",
       "0     Random Forest (tuned)  76.26  160.33      0.83\n",
       "1  Random Forest (baseline)  77.41  161.76      0.83\n",
       "2           XGBoost (tuned)  83.94  166.50      0.82\n",
       "3        XGBoost (baseline)  88.44  173.79      0.80\n",
       "4       LightGBM (baseline)  91.15  177.33      0.79"
      ]
     },
     "execution_count": 24,
     "metadata": {},
     "output_type": "execute_result"
    }
   ],
   "source": [
    "import pandas as pd\n",
    "from sklearn.metrics import mean_absolute_error, mean_squared_error, r2_score\n",
    "\n",
    "# Store metrics from each model\n",
    "model_results = pd.DataFrame({\n",
    "    'Model': [\n",
    "        'Random Forest (baseline)',\n",
    "        'XGBoost (baseline)',\n",
    "        'LightGBM (baseline)',\n",
    "        'Random Forest (tuned)',\n",
    "        'XGBoost (tuned)'\n",
    "    ],\n",
    "    'MAE': [\n",
    "        77.41,\n",
    "        88.44,\n",
    "        91.15,\n",
    "        76.26,\n",
    "        83.94\n",
    "    ],\n",
    "    'RMSE': [\n",
    "        161.76,\n",
    "        173.79,\n",
    "        177.33,\n",
    "        160.33,\n",
    "        166.50\n",
    "    ],\n",
    "    'R2 Score': [\n",
    "        0.83,\n",
    "        0.80,\n",
    "        0.79,\n",
    "        0.83,\n",
    "        0.82\n",
    "    ]\n",
    "})\n",
    "\n",
    "# Sort by RMSE\n",
    "model_results = model_results.sort_values(by='RMSE')\n",
    "model_results.reset_index(drop=True, inplace=True)\n",
    "model_results\n"
   ]
  },
  {
   "cell_type": "code",
   "execution_count": 25,
   "id": "a7982639-f3ba-46e0-9f5b-588f33fb88e2",
   "metadata": {},
   "outputs": [
    {
     "name": "stdout",
     "output_type": "stream",
     "text": [
      "✅ Tuned Random Forest model saved successfully!\n"
     ]
    }
   ],
   "source": [
    "import joblib\n",
    "\n",
    "# Save model to the models/ folder\n",
    "joblib.dump(best_rf, '../models/rf_demand_forecast_tuned.pkl')\n",
    "\n",
    "print(\"✅ Tuned Random Forest model saved successfully!\")\n"
   ]
  }
 ],
 "metadata": {
  "kernelspec": {
   "display_name": "Python 3 (ipykernel)",
   "language": "python",
   "name": "python3"
  },
  "language_info": {
   "codemirror_mode": {
    "name": "ipython",
    "version": 3
   },
   "file_extension": ".py",
   "mimetype": "text/x-python",
   "name": "python",
   "nbconvert_exporter": "python",
   "pygments_lexer": "ipython3",
   "version": "3.11.8"
  }
 },
 "nbformat": 4,
 "nbformat_minor": 5
}
